{
 "cells": [
  {
   "cell_type": "markdown",
   "id": "0088e50f",
   "metadata": {},
   "source": [
    "# Codebasic python exercise to learn python"
   ]
  },
  {
   "cell_type": "markdown",
   "id": "b2930cd3",
   "metadata": {},
   "source": [
    "## Exercise: Python Variables"
   ]
  },
  {
   "cell_type": "markdown",
   "id": "82c01995",
   "metadata": {},
   "source": [
    "###### 1. Create a variable called break and assign it a value 5. See what happens and find out the reason behind the behavior that you see."
   ]
  },
  {
   "cell_type": "markdown",
   "id": "b319554e",
   "metadata": {},
   "source": [
    "Break=5 is not possible as \"break\" is a keyword of python."
   ]
  },
  {
   "cell_type": "markdown",
   "id": "de83446c",
   "metadata": {},
   "source": [
    "###### 2. Create two variables. One to store your birth year and another one to store current year. Now calculate your age using these two variables"
   ]
  },
  {
   "cell_type": "code",
   "execution_count": 3,
   "id": "44b79125",
   "metadata": {},
   "outputs": [
    {
     "name": "stdout",
     "output_type": "stream",
     "text": [
      "Age :  25\n"
     ]
    }
   ],
   "source": [
    "birth_year=1998\n",
    "current_year=2023\n",
    "age=current_year-birth_year\n",
    "print(\"Age : \", age)"
   ]
  },
  {
   "cell_type": "markdown",
   "id": "058ef767",
   "metadata": {},
   "source": [
    "###### 3. Store your first, middle and last name in three different variables and then print your full name using these variables"
   ]
  },
  {
   "cell_type": "code",
   "execution_count": 4,
   "id": "18eb58a7",
   "metadata": {},
   "outputs": [
    {
     "name": "stdout",
     "output_type": "stream",
     "text": [
      "Maleeha Kaikaus Lamis\n"
     ]
    }
   ],
   "source": [
    "first_name=\"Maleeha\"\n",
    "middle_name=\"Kaikaus\"\n",
    "last_name=\"Lamis\"\n",
    "print(first_name+' '+middle_name+' '+last_name)"
   ]
  },
  {
   "cell_type": "markdown",
   "id": "5b61a4a2",
   "metadata": {},
   "source": [
    "###### 4. Answer which of these are invalid variable names: _nation 1record record1 record_one record-one record^one continue"
   ]
  },
  {
   "cell_type": "markdown",
   "id": "2204458f",
   "metadata": {},
   "source": [
    "Valid variable names: _nation, record1, record_one \n",
    "\n",
    "Invalid variable names: 1record, record-one, record^one,\n",
    "continue\n"
   ]
  },
  {
   "cell_type": "markdown",
   "id": "d45b63d0",
   "metadata": {},
   "source": [
    "## Exercise: Numbers in python"
   ]
  },
  {
   "cell_type": "markdown",
   "id": "fd68cf7e",
   "metadata": {},
   "source": [
    "###### 1. You have a football field that is 92 meter long and 48.8 meter wide. Find out total area using python and print it."
   ]
  },
  {
   "cell_type": "code",
   "execution_count": 16,
   "id": "e6f4d9d0",
   "metadata": {},
   "outputs": [
    {
     "name": "stdout",
     "output_type": "stream",
     "text": [
      "Total area of football field is  4489.599999999999\n"
     ]
    }
   ],
   "source": [
    "field_long=92\n",
    "field_wide=48.8\n",
    "total_area=field_long*field_wide\n",
    "print('Total area of football field is ',total_area)"
   ]
  },
  {
   "cell_type": "markdown",
   "id": "3bf263e0",
   "metadata": {},
   "source": [
    "###### 2. You bought 9 packets of potato chips from a store. Each packet costs 1.49 dollar and you gave shopkeeper 20 dollar. Find out using python, how many dollars is the shopkeeper going to give you back?"
   ]
  },
  {
   "cell_type": "code",
   "execution_count": 8,
   "id": "bcd0e5f0",
   "metadata": {},
   "outputs": [
    {
     "name": "stdout",
     "output_type": "stream",
     "text": [
      "Shopkeeper is going to give me back 6.59 dollar\n"
     ]
    }
   ],
   "source": [
    "Return=20-(1.49*9)\n",
    "print('Shopkeeper is going to give me back',Return,'dollar')"
   ]
  },
  {
   "cell_type": "markdown",
   "id": "48f9284b",
   "metadata": {},
   "source": [
    "###### 3. You want to replace tiles in your bathroom which is exactly square and 5.5 feet is its length. If tiles cost 500 rs per square feet, how much will be the total cost to replace all tiles. Calculate and print the cost using python (Hint: Use power operator ** to find area of a square)"
   ]
  },
  {
   "cell_type": "code",
   "execution_count": 9,
   "id": "a0c58576",
   "metadata": {},
   "outputs": [
    {
     "name": "stdout",
     "output_type": "stream",
     "text": [
      "The total cost will be 15125.0 rs\n"
     ]
    }
   ],
   "source": [
    "bathroom_area=5.5**2\n",
    "total_cost=(bathroom_area*500)\n",
    "print('The total cost will be',total_cost,'rs')"
   ]
  },
  {
   "cell_type": "markdown",
   "id": "909dc77a",
   "metadata": {},
   "source": [
    "###### 4. Print binary representation of number 17"
   ]
  },
  {
   "cell_type": "markdown",
   "id": "64bebda4",
   "metadata": {},
   "source": [
    "Type 1"
   ]
  },
  {
   "cell_type": "code",
   "execution_count": 13,
   "id": "3775d7de",
   "metadata": {},
   "outputs": [
    {
     "name": "stdout",
     "output_type": "stream",
     "text": [
      "10001"
     ]
    }
   ],
   "source": [
    "number=17\n",
    "while(number!=0):\n",
    "    print(int(number%2),end=\"\")\n",
    "    number=int(number/2)"
   ]
  },
  {
   "cell_type": "markdown",
   "id": "3f8e8022",
   "metadata": {},
   "source": [
    "Type 2"
   ]
  },
  {
   "cell_type": "code",
   "execution_count": 21,
   "id": "6f7522ba",
   "metadata": {},
   "outputs": [
    {
     "name": "stdout",
     "output_type": "stream",
     "text": [
      "Binary representation of number 17: 10001\n"
     ]
    }
   ],
   "source": [
    "number=17\n",
    "print('Binary representation of number 17:',format(number,'b'))"
   ]
  },
  {
   "cell_type": "markdown",
   "id": "c27d1745",
   "metadata": {},
   "source": [
    "## Exercise: String in Python"
   ]
  },
  {
   "cell_type": "markdown",
   "id": "c21d34ab",
   "metadata": {},
   "source": [
    "###### 1. Create 3 variables to store street, city and country, now create address variable to store entire address. Use two ways of creating this variable, one using + operator and the other using f-string. Now Print the address in such a way that the street, city and country prints in a separate line"
   ]
  },
  {
   "cell_type": "code",
   "execution_count": 46,
   "id": "adf32315",
   "metadata": {},
   "outputs": [
    {
     "name": "stdout",
     "output_type": "stream",
     "text": [
      "Address using + operator: \n",
      "North Doctor Para\n",
      "Feni\n",
      "Bangladesh\n",
      "Address using f-string: \n",
      "North Doctor Para\n",
      "Feni\n",
      "Bangladesh\n"
     ]
    }
   ],
   "source": [
    "street=\"North Doctor Para\"\n",
    "city=\"Feni\"\n",
    "country=\"Bangladesh\"\n",
    "address='\\n'+street+'\\n'+city+'\\n'+country\n",
    "print(\"Address using + operator:\",address)\n",
    "address=f'\\n{street}\\n{city}\\n{country}'\n",
    "print(\"Address using f-string:\",address)"
   ]
  },
  {
   "cell_type": "markdown",
   "id": "53d7fe22",
   "metadata": {},
   "source": [
    "###### 2. Create a variable to store the string \"Earth revolves around the sun\""
   ]
  },
  {
   "cell_type": "markdown",
   "id": "c3ef61fb",
   "metadata": {},
   "source": [
    "###### i.Print \"revolves\" using slice operator"
   ]
  },
  {
   "cell_type": "code",
   "execution_count": 24,
   "id": "d12528fa",
   "metadata": {},
   "outputs": [
    {
     "name": "stdout",
     "output_type": "stream",
     "text": [
      "revolves\n"
     ]
    }
   ],
   "source": [
    "Line=\"Earth revolves around the sun\"\n",
    "print(Line[6:14])"
   ]
  },
  {
   "cell_type": "markdown",
   "id": "28eb23bf",
   "metadata": {},
   "source": [
    "###### ii.Print \"sun\" using negative index"
   ]
  },
  {
   "cell_type": "code",
   "execution_count": 25,
   "id": "b770e0eb",
   "metadata": {},
   "outputs": [
    {
     "name": "stdout",
     "output_type": "stream",
     "text": [
      "sun\n"
     ]
    }
   ],
   "source": [
    "print(Line[-3:])"
   ]
  },
  {
   "cell_type": "markdown",
   "id": "72efd1e2",
   "metadata": {},
   "source": [
    "###### 3. Create two variables to store how many fruits and vegetables you eat in a day. Now Print \"I eat x veggies and y fruits daily\" where x and y presents vegetables and fruits that you eat everyday. Use python f string for this."
   ]
  },
  {
   "cell_type": "code",
   "execution_count": 51,
   "id": "ba611ff1",
   "metadata": {},
   "outputs": [
    {
     "name": "stdout",
     "output_type": "stream",
     "text": [
      "I eat 5 veggies and 3 fruits daily\n"
     ]
    }
   ],
   "source": [
    "x=5\n",
    "y=3\n",
    "print(f'I eat {x} veggies and {y} fruits daily')"
   ]
  },
  {
   "cell_type": "markdown",
   "id": "e6ffdcde",
   "metadata": {},
   "source": [
    "###### 4. I have a string variable called s='maine 200 banana khaye'. This of course is a wrong statement, the correct statement is 'maine 10 samosa khaye'. Replace incorrect words in original strong with new ones and print the new string. Also try to do this in one line."
   ]
  },
  {
   "cell_type": "code",
   "execution_count": 52,
   "id": "c2e7ab15",
   "metadata": {},
   "outputs": [
    {
     "name": "stdout",
     "output_type": "stream",
     "text": [
      "maine 10 samosa khaye\n"
     ]
    }
   ],
   "source": [
    "s='maine 200 banana khaye'\n",
    "print(s.replace(\"200\",\"10\").replace(\"banana\",\"samosa\"))"
   ]
  },
  {
   "cell_type": "code",
   "execution_count": null,
   "id": "7fce97d8",
   "metadata": {},
   "outputs": [],
   "source": []
  }
 ],
 "metadata": {
  "kernelspec": {
   "display_name": "Python 3 (ipykernel)",
   "language": "python",
   "name": "python3"
  },
  "language_info": {
   "codemirror_mode": {
    "name": "ipython",
    "version": 3
   },
   "file_extension": ".py",
   "mimetype": "text/x-python",
   "name": "python",
   "nbconvert_exporter": "python",
   "pygments_lexer": "ipython3",
   "version": "3.10.9"
  }
 },
 "nbformat": 4,
 "nbformat_minor": 5
}
